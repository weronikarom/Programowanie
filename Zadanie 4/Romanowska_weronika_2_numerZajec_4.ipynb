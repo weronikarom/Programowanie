{
  "nbformat": 4,
  "nbformat_minor": 0,
  "metadata": {
    "colab": {
      "provenance": []
    },
    "kernelspec": {
      "name": "python3",
      "display_name": "Python 3"
    },
    "language_info": {
      "name": "python"
    }
  },
  "cells": [
    {
      "cell_type": "code",
      "execution_count": 1,
      "metadata": {
        "colab": {
          "base_uri": "https://localhost:8080/"
        },
        "id": "sQwHMtK-8Pkc",
        "outputId": "20dba882-b097-49b3-d70c-ada7600a1867"
      },
      "outputs": [
        {
          "name": "stdout",
          "output_type": "stream",
          "text": [
            "Podaj liczbę rzędów: 9\n"
          ]
        }
      ],
      "source": [
        "n = int(input(\"Podaj liczbę rzędów: \"))"
      ]
    },
    {
      "cell_type": "code",
      "source": [
        "for i in range(2, n + 1):\n",
        "    for j in range(1, i):\n",
        "        print(j, end=\"\")\n",
        "    print()"
      ],
      "metadata": {
        "colab": {
          "base_uri": "https://localhost:8080/"
        },
        "id": "3XzA4kwj8kzh",
        "outputId": "6308e691-ceda-4c6c-b748-9750147cc383"
      },
      "execution_count": 3,
      "outputs": [
        {
          "output_type": "stream",
          "name": "stdout",
          "text": [
            "1\n",
            "12\n",
            "123\n",
            "1234\n",
            "12345\n",
            "123456\n",
            "1234567\n",
            "12345678\n"
          ]
        }
      ]
    },
    {
      "cell_type": "code",
      "source": [
        "n = int(input(\"Podaj liczbę rzędów: \"))\n",
        "for i in range(1, n + 1):\n",
        "    if i <= n / 2 + 1:\n",
        "        print('*' * i)\n",
        "    else:\n",
        "        print('*' * (n - i + 1))"
      ],
      "metadata": {
        "colab": {
          "base_uri": "https://localhost:8080/"
        },
        "id": "jMoqaGfG86xz",
        "outputId": "86f2051b-553a-4fff-a051-c66977eb10a6"
      },
      "execution_count": 6,
      "outputs": [
        {
          "output_type": "stream",
          "name": "stdout",
          "text": [
            "Podaj liczbę rzędów: 9\n",
            "*\n",
            "**\n",
            "***\n",
            "****\n",
            "*****\n",
            "****\n",
            "***\n",
            "**\n",
            "*\n"
          ]
        }
      ]
    },
    {
      "cell_type": "code",
      "source": [
        "lista = [6, 2, 3, 7, 1, 12, 56, 99]\n"
      ],
      "metadata": {
        "id": "xhKoPLcX9PsB"
      },
      "execution_count": 11,
      "outputs": []
    },
    {
      "cell_type": "code",
      "source": [
        "lista = [str(x) if isinstance(x, int) and 10 <= x <= 99 else x for x in lista]\n"
      ],
      "metadata": {
        "id": "6JiNx59j9VUk"
      },
      "execution_count": 18,
      "outputs": []
    },
    {
      "cell_type": "code",
      "source": [
        "lista = [x for x in lista if isinstance(x, int)]\n"
      ],
      "metadata": {
        "id": "TwtMpq8093wq"
      },
      "execution_count": 19,
      "outputs": []
    },
    {
      "cell_type": "code",
      "source": [
        "print(\"Najmniejsza wartość:\", min(lista))\n"
      ],
      "metadata": {
        "colab": {
          "base_uri": "https://localhost:8080/"
        },
        "id": "9_a-uJSn9Wkj",
        "outputId": "747253b7-dc9e-4fef-82bb-ec9769376a18"
      },
      "execution_count": 20,
      "outputs": [
        {
          "output_type": "stream",
          "name": "stdout",
          "text": [
            "Najmniejsza wartość: 1\n"
          ]
        }
      ]
    }
  ]
}