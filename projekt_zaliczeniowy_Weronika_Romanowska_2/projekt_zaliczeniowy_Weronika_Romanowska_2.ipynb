{
  "nbformat": 4,
  "nbformat_minor": 0,
  "metadata": {
    "colab": {
      "provenance": []
    },
    "kernelspec": {
      "name": "python3",
      "display_name": "Python 3"
    },
    "language_info": {
      "name": "python"
    }
  },
  "cells": [
    {
      "cell_type": "code",
      "execution_count": 61,
      "metadata": {
        "id": "6LVhnwqVgkfQ"
      },
      "outputs": [],
      "source": [
        "import pandas as pd\n",
        "\n",
        "df = pd.read_csv(\"/content/dane7.csv\")\n"
      ]
    },
    {
      "cell_type": "code",
      "source": [
        "# Czesc 1 Zamień skróty nazw dni tygodnia na polskie odpowiedniki (pełne nazwy dni tygodnia) - kolumna created_at\n",
        "dni_tygodnia = {'Mon': 'Poniedziałek', 'Tue': 'Wtorek', 'Wed': 'Środa', 'Thu': 'Czwartek', 'Fri': 'Piątek', 'Sat': 'Sobota', 'Sun': 'Niedziela'}\n",
        "df['created_at'] = df['created_at'].apply(lambda x: dni_tygodnia[x.split()[0]])"
      ],
      "metadata": {
        "id": "mrLA3KZ9nBC4"
      },
      "execution_count": 62,
      "outputs": []
    },
    {
      "cell_type": "code",
      "source": [
        "df['created_at']"
      ],
      "metadata": {
        "colab": {
          "base_uri": "https://localhost:8080/"
        },
        "id": "MKH0Pf9XpOQ7",
        "outputId": "bb3ad0e5-2ffd-4bc7-b651-bdfac5f02753"
      },
      "execution_count": 63,
      "outputs": [
        {
          "output_type": "execute_result",
          "data": {
            "text/plain": [
              "0       Piątek\n",
              "1       Piątek\n",
              "2       Piątek\n",
              "3       Piątek\n",
              "4       Piątek\n",
              "         ...  \n",
              "5097    Wtorek\n",
              "5098    Wtorek\n",
              "5099    Wtorek\n",
              "5100    Wtorek\n",
              "5101    Wtorek\n",
              "Name: created_at, Length: 5102, dtype: object"
            ]
          },
          "metadata": {},
          "execution_count": 63
        }
      ]
    },
    {
      "cell_type": "code",
      "source": [
        "# Zamień skróty nazw miesięcy na liczbowe odpowiedniki (np Jun na 06) - kolumna user_created_at\n",
        "nazwy_miesiecy = {'Jan': '01', 'Feb': '02', 'Mar': '03', 'Apr': '04', 'May': '05', 'Jun': '06', 'Jul': '07', 'Aug': '08', 'Sep': '09', 'Oct': '10', 'Nov': '11', 'Dec': '12'}\n",
        "df['user_created_at'] = df['user_created_at'].apply(lambda x: x.split()[0] + \" \" + nazwy_miesiecy[x.split()[1]] + ' ' + \" \".join(x.split()[2:]))\n"
      ],
      "metadata": {
        "id": "07S9ZD6wnDRJ"
      },
      "execution_count": 64,
      "outputs": []
    },
    {
      "cell_type": "code",
      "source": [
        "df['user_created_at']"
      ],
      "metadata": {
        "colab": {
          "base_uri": "https://localhost:8080/"
        },
        "id": "LdkzFHW2qwkg",
        "outputId": "a80d7b2c-c41d-44d6-bba2-9cf3d583a951"
      },
      "execution_count": 65,
      "outputs": [
        {
          "output_type": "execute_result",
          "data": {
            "text/plain": [
              "0       Sun 05 24 20:01:26 +0000 2015\n",
              "1       Sat 02 23 20:23:00 +0000 2019\n",
              "2       Wed 11 18 17:55:16 +0000 2020\n",
              "3       Thu 03 08 16:03:40 +0000 2018\n",
              "4       Sat 07 27 13:22:01 +0000 2019\n",
              "                    ...              \n",
              "5097    Sun 07 05 08:04:13 +0000 2020\n",
              "5098    Sun 07 12 07:08:16 +0000 2020\n",
              "5099    Mon 07 23 08:28:16 +0000 2012\n",
              "5100    Sun 03 18 05:07:47 +0000 2018\n",
              "5101    Thu 03 12 02:01:58 +0000 2015\n",
              "Name: user_created_at, Length: 5102, dtype: object"
            ]
          },
          "metadata": {},
          "execution_count": 65
        }
      ]
    },
    {
      "cell_type": "code",
      "source": [
        "# Pobierz wszystkie linki do tweetów i przekaż je do listy\n",
        "tweet_links = df['tweet_url'].tolist()\n"
      ],
      "metadata": {
        "id": "PUXPWI9TnDe-"
      },
      "execution_count": 66,
      "outputs": []
    },
    {
      "cell_type": "code",
      "source": [
        "tweet_links"
      ],
      "metadata": {
        "id": "cAWI7tirq7Zb"
      },
      "execution_count": null,
      "outputs": []
    },
    {
      "cell_type": "code",
      "source": [
        "# Pobierz wszystkie linki znajdujące się w tweetach i przekaż je do listy (kolumna urls)\n",
        "import re\n",
        "all_urls = []\n",
        "for urls in df['text'].apply(lambda x: re.findall(r'http[s]?://(?:[a-zA-Z]|[0-9]|[$-_@.&+]|[!*\\\\(\\\\),]|(?:%[0-9a-fA-F][0-9a-fA-F]))+', x)):\n",
        "    all_urls.extend(urls)"
      ],
      "metadata": {
        "id": "4K8CuHhinDrs"
      },
      "execution_count": 68,
      "outputs": []
    },
    {
      "cell_type": "code",
      "source": [
        "# Pobierz wszystkie linki do obrazków i przekaż je do listy (kolumna media).\n",
        "image_links = df['media'].dropna().tolist()"
      ],
      "metadata": {
        "id": "5oJGtazPnJWW"
      },
      "execution_count": 69,
      "outputs": []
    },
    {
      "cell_type": "code",
      "source": [
        "# Usuń wszystkie słowa oznaczone jako stopwords i przekaż oczyszczony tekst do nowej kolumny o nazwie text_without_stopwords\n",
        "import nltk\n",
        "nltk.download('stopwords')\n",
        "\n"
      ],
      "metadata": {
        "colab": {
          "base_uri": "https://localhost:8080/"
        },
        "id": "Ei2NSwBNnJjG",
        "outputId": "b74c4847-4a60-4695-8f2d-6129ef6c1090"
      },
      "execution_count": 70,
      "outputs": [
        {
          "output_type": "stream",
          "name": "stderr",
          "text": [
            "[nltk_data] Downloading package stopwords to /root/nltk_data...\n",
            "[nltk_data]   Package stopwords is already up-to-date!\n"
          ]
        },
        {
          "output_type": "execute_result",
          "data": {
            "text/plain": [
              "True"
            ]
          },
          "metadata": {},
          "execution_count": 70
        }
      ]
    },
    {
      "cell_type": "code",
      "source": [
        "from nltk.corpus import stopwords\n"
      ],
      "metadata": {
        "id": "G1RAeeNXthB1"
      },
      "execution_count": 71,
      "outputs": []
    },
    {
      "cell_type": "code",
      "source": [
        "stoplist = stopwords.words('english')"
      ],
      "metadata": {
        "id": "0gL1m9netkBr"
      },
      "execution_count": 75,
      "outputs": []
    },
    {
      "cell_type": "code",
      "source": [
        "stop_words = set(stopwords.words('english'))\n",
        "df['text_without_stopwords'] = df['text'].apply(lambda x: ' '.join([word for word in x.split() if word.lower() not in stop_words]))\n"
      ],
      "metadata": {
        "id": "09mvfoRZrQwL"
      },
      "execution_count": 73,
      "outputs": []
    },
    {
      "cell_type": "code",
      "source": [
        "df['text_without_stopwords']"
      ],
      "metadata": {
        "id": "aKl11YLYtTXh"
      },
      "execution_count": null,
      "outputs": []
    },
    {
      "cell_type": "code",
      "source": [
        "# Czesc 2 - Wypisz top5 tweetów z największą liczbą polubień\n",
        "top_liked_tweets = df.nlargest(5, 'favorite_count')['text']\n"
      ],
      "metadata": {
        "id": "Z9w-S-2_vYA5"
      },
      "execution_count": 76,
      "outputs": []
    },
    {
      "cell_type": "code",
      "source": [
        "top_liked_tweets"
      ],
      "metadata": {
        "colab": {
          "base_uri": "https://localhost:8080/"
        },
        "id": "K8nHSZqMvtam",
        "outputId": "540a39a7-41af-487a-af2a-b71f0dda6de2"
      },
      "execution_count": 77,
      "outputs": [
        {
          "output_type": "execute_result",
          "data": {
            "text/plain": [
              "484     Dziś z prezydent-elekt @Tsihanouskaya mówiliśm...\n",
              "1124    Warszawa czeka na @Tsihanouskaya. #StandWithBe...\n",
              "4770    Jasio, który nie panuje nad swoją jadaczką, zn...\n",
              "3692    Czyli prezydenci opozycji: \\n👉Poznań -cieszy s...\n",
              "3193    Pierwszy z 21 nowych pociągów @SKM_Warszawa ju...\n",
              "Name: text, dtype: object"
            ]
          },
          "metadata": {},
          "execution_count": 77
        }
      ]
    },
    {
      "cell_type": "code",
      "source": [
        "# Wypisz top5 tweetów z największą liczbą retweetów\n",
        "top_retweeted_tweets = df.nlargest(5, 'retweet_count')['text']"
      ],
      "metadata": {
        "id": "xVcV_xCUvao2"
      },
      "execution_count": 78,
      "outputs": []
    },
    {
      "cell_type": "code",
      "source": [
        "top_retweeted_tweets"
      ],
      "metadata": {
        "colab": {
          "base_uri": "https://localhost:8080/"
        },
        "id": "BdAe1UFJvx3P",
        "outputId": "d029d160-1af5-4baa-e0b0-6947013c800d"
      },
      "execution_count": 79,
      "outputs": [
        {
          "output_type": "execute_result",
          "data": {
            "text/plain": [
              "4396    HALO WARSZAWA\\nchętnie rozjaśnię, ufarbuję, ze...\n",
              "618     ‼️\\nA teraz perełka. Finał Was rozwali. \\n10-1...\n",
              "1173    UWAGA #Warszawa Śniadeckich 12/16\\n\\nPani Danu...\n",
              "3915    UWAGA #Warszawa Śniadeckich 12/16\\n\\nPani Danu...\n",
              "4758    UWAGA #Warszawa Śniadeckich 12/16\\n\\nPani Danu...\n",
              "Name: text, dtype: object"
            ]
          },
          "metadata": {},
          "execution_count": 79
        }
      ]
    },
    {
      "cell_type": "code",
      "source": [
        "# Wyświetl tylko te tweety, które nie są uznane jako “wrażliwe” (kolumna possibly_sensitive)\n",
        "tweets_non_sensitive = df[df['possibly_sensitive'] == False]['text']"
      ],
      "metadata": {
        "id": "igvSH7tAvazb"
      },
      "execution_count": 81,
      "outputs": []
    },
    {
      "cell_type": "code",
      "source": [
        "tweets_non_sensitive"
      ],
      "metadata": {
        "colab": {
          "base_uri": "https://localhost:8080/"
        },
        "id": "HWor5kRjwKGZ",
        "outputId": "cde4c65d-2671-4eba-b983-8b740117864c"
      },
      "execution_count": 82,
      "outputs": [
        {
          "output_type": "execute_result",
          "data": {
            "text/plain": [
              "7       W uroczystości wzięła udział https://t.co/V8xU...\n",
              "9       To właśnie w tym miejscu przedwojenna Warszawa...\n",
              "15      Park został otwarty dla mieszkańców w 1955 rok...\n",
              "16      @galopujacymajor sobie gdzieś tam libkuje poza...\n",
              "17      61 lat temu zmarł gen. Józef Haller. \\nIPN i W...\n",
              "                              ...                        \n",
              "5068    Dla tego debil Warszawa to zawsze Warschau htt...\n",
              "5070    #kosaciecżółty zasiedla stanowiska o pozwyższo...\n",
              "5072    📆#Tegodnia 4️⃣3️⃣ LATA TEMU\\n\\nW Argentynie ro...\n",
              "5076    W tunelu południowej obwodnicy Warszawy pod Ur...\n",
              "5087    Wszystkiego najlepszego, Drogie Dzieci 🍬🍭\\nZap...\n",
              "Name: text, Length: 1701, dtype: object"
            ]
          },
          "metadata": {},
          "execution_count": 82
        }
      ]
    },
    {
      "cell_type": "code",
      "source": [
        "# Wyświetl tweety użytkownika, który założył konto najwcześniej (spośród wszystkich użytkowników w datasecie) (kolumna user_created_at)\n",
        "df['user_created_at'] = pd.to_datetime(df['user_created_at'])\n",
        "earliest_user = df.loc[df['user_created_at'].idxmin(), 'user_screen_name']\n",
        "earliest_user_tweets = df[df['user_screen_name'] == earliest_user]['text']\n",
        "\n"
      ],
      "metadata": {
        "id": "1s-sb6Qzva7k"
      },
      "execution_count": 91,
      "outputs": []
    },
    {
      "cell_type": "code",
      "source": [
        "earliest_user_tweets"
      ],
      "metadata": {
        "colab": {
          "base_uri": "https://localhost:8080/"
        },
        "id": "OwHhIvRjwQDh",
        "outputId": "3dcabe6f-9d7c-4d21-a9c9-eeec215ba49a"
      },
      "execution_count": 92,
      "outputs": [
        {
          "output_type": "execute_result",
          "data": {
            "text/plain": [
              "3772    Policjanci z wydziału do walki z przestępczośc...\n",
              "Name: text, dtype: object"
            ]
          },
          "metadata": {},
          "execution_count": 92
        }
      ]
    },
    {
      "cell_type": "code",
      "source": [
        "# Wyświetl tweety użytkownika, który ma najwięcej followersów\n",
        "most_followed_user_tweets = df[df['user_followers_count'] == df['user_followers_count'].max()]['text']"
      ],
      "metadata": {
        "id": "B-x75xs3va-1"
      },
      "execution_count": 93,
      "outputs": []
    },
    {
      "cell_type": "code",
      "source": [
        "most_followed_user_tweets"
      ],
      "metadata": {
        "colab": {
          "base_uri": "https://localhost:8080/"
        },
        "id": "_j6zbRqYxV7f",
        "outputId": "296e8d0e-5761-4134-cdab-960632b603b2"
      },
      "execution_count": 94,
      "outputs": [
        {
          "output_type": "execute_result",
          "data": {
            "text/plain": [
              "1550    \"Jego spokój pozytywnie udziela się pozostałym...\n",
              "1792    Zarząd Transportu Miejskiego zapowiada, że czę...\n",
              "2683    \"Tylko w ostatnich czterech dniach zaszczepili...\n",
              "2720    W środę po południu w okolicach mostu Świętokr...\n",
              "4073    Sprawcy szuka policja.\\n\\nhttps://t.co/J5YwjOPMTy\n",
              "4737    Aktywista miejski Jan Śpiewak przegrał proces ...\n",
              "4911    W poniedziałek późnym wieczorem na Mokotowie z...\n",
              "Name: text, dtype: object"
            ]
          },
          "metadata": {},
          "execution_count": 94
        }
      ]
    },
    {
      "cell_type": "code",
      "source": [
        "# Wyświetl tylko zweryfikowanych użytkowników (kolumna user_verified)\n",
        "verified_users_tweets = df[df['user_verified'] == True]['user_screen_name']"
      ],
      "metadata": {
        "id": "v5Y1Nue7voNB"
      },
      "execution_count": 97,
      "outputs": []
    },
    {
      "cell_type": "code",
      "source": [
        "verified_users_tweets"
      ],
      "metadata": {
        "colab": {
          "base_uri": "https://localhost:8080/"
        },
        "id": "UerofeaWx8Jq",
        "outputId": "f0c5cefc-4314-4981-ff4e-b3c26e6e093d"
      },
      "execution_count": 98,
      "outputs": [
        {
          "output_type": "execute_result",
          "data": {
            "text/plain": [
              "15          tvnwarszawa\n",
              "31      gazeta_wyborcza\n",
              "49          tvnwarszawa\n",
              "105         adamSzlapka\n",
              "132         tvnwarszawa\n",
              "             ...       \n",
              "5003       j_wisniewska\n",
              "5023     parents4future\n",
              "5034       DGWdowodztwo\n",
              "5049        tvnwarszawa\n",
              "5069      MariuszTrepka\n",
              "Name: user_screen_name, Length: 191, dtype: object"
            ]
          },
          "metadata": {},
          "execution_count": 98
        }
      ]
    },
    {
      "cell_type": "code",
      "source": [
        "# Podaj, w który dzień tygodnia najczęściej były publikowane tweety z datasetu\n",
        "most_common_day = df['created_at'].mode()[0]\n"
      ],
      "metadata": {
        "id": "vcErVzPbu7Ja"
      },
      "execution_count": 99,
      "outputs": []
    },
    {
      "cell_type": "code",
      "source": [
        "most_common_day"
      ],
      "metadata": {
        "colab": {
          "base_uri": "https://localhost:8080/",
          "height": 35
        },
        "id": "P33vBhp1yfZ-",
        "outputId": "4bf3df83-3b4e-44c8-f4cb-619992825060"
      },
      "execution_count": 100,
      "outputs": [
        {
          "output_type": "execute_result",
          "data": {
            "text/plain": [
              "'Środa'"
            ],
            "application/vnd.google.colaboratory.intrinsic+json": {
              "type": "string"
            }
          },
          "metadata": {},
          "execution_count": 100
        }
      ]
    },
    {
      "cell_type": "code",
      "source": [
        "#Czesc 3\n",
        "\n",
        "import spacy"
      ],
      "metadata": {
        "id": "2bUQJb3RyoIC"
      },
      "execution_count": 101,
      "outputs": []
    },
    {
      "cell_type": "code",
      "source": [
        "!pip install spacy -U\n",
        "!python -m spacy download pl_core_news_lg\n"
      ],
      "metadata": {
        "id": "RUesIlljzZ16"
      },
      "execution_count": null,
      "outputs": []
    },
    {
      "cell_type": "code",
      "source": [
        "nlp = spacy.load('pl_core_news_lg')"
      ],
      "metadata": {
        "id": "3iu_89qh0L30"
      },
      "execution_count": 105,
      "outputs": []
    },
    {
      "cell_type": "code",
      "source": [
        "text = \"Naszym zdaniem nikt nie zarejestrował wielkiej fali demonstracji publicznych ostatnich lat lepiej niż fotografowie związani z Archiwum Protestów Publicznych Chcecie sprawdzić czy się z nami zgadzaci Bądźcie jutro, na Placu Defilad Święto Warszawy \""
      ],
      "metadata": {
        "id": "SO5CMjDB0cwx"
      },
      "execution_count": 120,
      "outputs": []
    },
    {
      "cell_type": "code",
      "source": [
        "def extract_entities(text):\n",
        "    doc = nlp(text)\n",
        "    persons = [ent.text for ent in doc.ents if ent.label_ == 'PER']\n",
        "    places = [ent.text for ent in doc.ents if ent.label_ == 'LOC']\n",
        "    organizations = [ent.text for ent in doc.ents if ent.label_ == 'ORG']\n",
        "    return persons, places, organizations"
      ],
      "metadata": {
        "id": "Gz2L7Rv60PAW"
      },
      "execution_count": 121,
      "outputs": []
    },
    {
      "cell_type": "code",
      "source": [
        "data = {'text': [text]}\n",
        "df = pd.DataFrame(data)"
      ],
      "metadata": {
        "id": "2B9QwzhJ0cpr"
      },
      "execution_count": 122,
      "outputs": []
    },
    {
      "cell_type": "code",
      "source": [
        "df[['persons', 'places', 'organizations']] = df['text'].apply(lambda x: pd.Series(extract_entities(x)))\n"
      ],
      "metadata": {
        "id": "H2338UWI01oU"
      },
      "execution_count": 123,
      "outputs": []
    },
    {
      "cell_type": "code",
      "source": [
        "print(df)\n"
      ],
      "metadata": {
        "colab": {
          "base_uri": "https://localhost:8080/"
        },
        "id": "gB0G_ZPS033L",
        "outputId": "c2282f2d-ff71-4fed-e3ee-5a2211d14041"
      },
      "execution_count": 125,
      "outputs": [
        {
          "output_type": "stream",
          "name": "stdout",
          "text": [
            "                                                text persons places  \\\n",
            "0  Naszym zdaniem nikt nie zarejestrował wielkiej...      []     []   \n",
            "\n",
            "  organizations  \n",
            "0            []  \n"
          ]
        }
      ]
    },
    {
      "cell_type": "code",
      "source": [
        "#Czesc 4"
      ],
      "metadata": {
        "id": "FIcqDHcB1cjM"
      },
      "execution_count": null,
      "outputs": []
    },
    {
      "cell_type": "code",
      "source": [
        "import matplotlib.pyplot as plt"
      ],
      "metadata": {
        "id": "6q7mP68d1ivV"
      },
      "execution_count": 145,
      "outputs": []
    },
    {
      "cell_type": "code",
      "source": [
        "df = pd.read_csv('dane7.csv')\n"
      ],
      "metadata": {
        "id": "6yeQF69C3B2_"
      },
      "execution_count": 146,
      "outputs": []
    },
    {
      "cell_type": "code",
      "source": [
        "df['created_at'] = pd.to_datetime(df['created_at'], format='%a %b %d %H:%M:%S %z %Y')\n"
      ],
      "metadata": {
        "id": "Yni99WW12VQG"
      },
      "execution_count": 147,
      "outputs": []
    },
    {
      "cell_type": "code",
      "source": [
        "df['created_at'] = pd.to_datetime(df['created_at'], format='%a %b %d %H:%M:%S %z %Y')\n",
        "\n"
      ],
      "metadata": {
        "id": "MT_I-Fb34WLC"
      },
      "execution_count": 163,
      "outputs": []
    },
    {
      "cell_type": "code",
      "source": [
        "df['day_of_week'] = df['created_at'].dt.day_name()\n"
      ],
      "metadata": {
        "id": "SdJfF0iH2W-U"
      },
      "execution_count": 164,
      "outputs": []
    },
    {
      "cell_type": "code",
      "source": [
        "df['day_of_week']"
      ],
      "metadata": {
        "colab": {
          "base_uri": "https://localhost:8080/"
        },
        "id": "UehlI2G92ZTQ",
        "outputId": "4ced68fe-5e53-497e-b982-df4df1439c87"
      },
      "execution_count": 165,
      "outputs": [
        {
          "output_type": "execute_result",
          "data": {
            "text/plain": [
              "0        Friday\n",
              "1        Friday\n",
              "2        Friday\n",
              "3        Friday\n",
              "4        Friday\n",
              "         ...   \n",
              "5097    Tuesday\n",
              "5098    Tuesday\n",
              "5099    Tuesday\n",
              "5100    Tuesday\n",
              "5101    Tuesday\n",
              "Name: day_of_week, Length: 5102, dtype: object"
            ]
          },
          "metadata": {},
          "execution_count": 165
        }
      ]
    },
    {
      "cell_type": "code",
      "source": [
        "tweet_count_per_day = df['day_of_week'].value_counts().sort_index()\n"
      ],
      "metadata": {
        "id": "Ph9uB_GZ2kra"
      },
      "execution_count": 166,
      "outputs": []
    },
    {
      "cell_type": "code",
      "source": [
        "plt.figure(figsize=(10,6))\n",
        "tweet_count_per_day.plot(kind='bar')\n",
        "plt.xlabel('Dzień tygodnia')\n",
        "plt.ylabel('Liczba tweetów')\n",
        "plt.title('Liczba tweetów per dzień tygodnia')\n",
        "plt.xticks(rotation=45)\n",
        "plt.show()"
      ],
      "metadata": {
        "colab": {
          "base_uri": "https://localhost:8080/",
          "height": 618
        },
        "id": "ViD2kzI_2mvT",
        "outputId": "dcc728ab-297a-4eb5-bc94-47d3065eb350"
      },
      "execution_count": 168,
      "outputs": [
        {
          "output_type": "display_data",
          "data": {
            "text/plain": [
              "<Figure size 1000x600 with 1 Axes>"
            ],
            "image/png": "[encoded data removed]"
          },
          "metadata": {}
        }
      ]
    }
  ]
}