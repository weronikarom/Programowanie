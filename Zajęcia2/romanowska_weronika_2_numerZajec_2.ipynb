{
  "nbformat": 4,
  "nbformat_minor": 0,
  "metadata": {
    "colab": {
      "provenance": []
    },
    "kernelspec": {
      "name": "python3",
      "display_name": "Python 3"
    },
    "language_info": {
      "name": "python"
    }
  },
  "cells": [
    {
      "cell_type": "code",
      "source": [
        "#zadanie1\n",
        "\n",
        "zmienna= \"Uwielbiam zajęcia z programowania\"\n",
        "\n",
        "print(zmienna)"
      ],
      "metadata": {
        "colab": {
          "base_uri": "https://localhost:8080/"
        },
        "id": "bMuUFwPVaDNx",
        "outputId": "33160a00-6729-4e3f-e461-f3608686f4e9"
      },
      "execution_count": 1,
      "outputs": [
        {
          "output_type": "stream",
          "name": "stdout",
          "text": [
            "Uwielbiam zajęcia z programowania\n"
          ]
        }
      ]
    },
    {
      "cell_type": "code",
      "source": [
        "zmienna[13:23]"
      ],
      "metadata": {
        "colab": {
          "base_uri": "https://localhost:8080/",
          "height": 35
        },
        "id": "vGgM0EYBbJ0f",
        "outputId": "80db55e1-69cb-4ab8-c5a8-ef314c40eacf"
      },
      "execution_count": 5,
      "outputs": [
        {
          "output_type": "execute_result",
          "data": {
            "text/plain": [
              "'ęcia z pro'"
            ],
            "application/vnd.google.colaboratory.intrinsic+json": {
              "type": "string"
            }
          },
          "metadata": {},
          "execution_count": 5
        }
      ]
    },
    {
      "cell_type": "code",
      "source": [
        "zmienna[-1::-1]"
      ],
      "metadata": {
        "colab": {
          "base_uri": "https://localhost:8080/",
          "height": 35
        },
        "id": "qN3bQYIPcDfk",
        "outputId": "b6515c3c-a6d4-4a2e-cf6b-13c879482522"
      },
      "execution_count": 6,
      "outputs": [
        {
          "output_type": "execute_result",
          "data": {
            "text/plain": [
              "'ainawomargorp z aicęjaz maibleiwU'"
            ],
            "application/vnd.google.colaboratory.intrinsic+json": {
              "type": "string"
            }
          },
          "metadata": {},
          "execution_count": 6
        }
      ]
    },
    {
      "cell_type": "code",
      "source": [
        "zmienna[1::3]"
      ],
      "metadata": {
        "colab": {
          "base_uri": "https://localhost:8080/",
          "height": 35
        },
        "id": "KIW8-kpCceBN",
        "outputId": "d951ba57-af52-4bb7-afce-8e3a89c60222"
      },
      "execution_count": 7,
      "outputs": [
        {
          "output_type": "execute_result",
          "data": {
            "text/plain": [
              "'wlazęa oawi'"
            ],
            "application/vnd.google.colaboratory.intrinsic+json": {
              "type": "string"
            }
          },
          "metadata": {},
          "execution_count": 7
        }
      ]
    },
    {
      "cell_type": "code",
      "source": [
        "#zadanie2\n",
        "\n",
        "zmienna2=\"Czarny to mój ulubiony kolor, niestety, kolor czarny bardzo szybko spiera się z moich ubrań\"\n",
        "\n",
        "print(zmienna2)"
      ],
      "metadata": {
        "colab": {
          "base_uri": "https://localhost:8080/"
        },
        "id": "jeWnHEZAb37-",
        "outputId": "5bcbafb2-aabb-49ae-b9d5-d01a858a807c"
      },
      "execution_count": 8,
      "outputs": [
        {
          "output_type": "stream",
          "name": "stdout",
          "text": [
            "Czarny to mój ulubiony kolor, niestety, kolor czarny bardzo szybko spiera się z moich ubrań\n"
          ]
        }
      ]
    },
    {
      "cell_type": "code",
      "source": [
        "zmienna2.find(\"C\"\"T\"\"M\"\"U\"\"K\"\"N\"\"K\"\"C\"\"B\"\"S\"\"S\"\"S\"\"Z\"\"M\"\"U\")"
      ],
      "metadata": {
        "colab": {
          "base_uri": "https://localhost:8080/"
        },
        "id": "Tnl3GQhEc9kc",
        "outputId": "a57cd89f-09bb-4992-bee4-54f8af20d980"
      },
      "execution_count": 16,
      "outputs": [
        {
          "output_type": "execute_result",
          "data": {
            "text/plain": [
              "-1"
            ]
          },
          "metadata": {},
          "execution_count": 16
        }
      ]
    },
    {
      "cell_type": "code",
      "source": [
        "zmienna2[0]"
      ],
      "metadata": {
        "colab": {
          "base_uri": "https://localhost:8080/",
          "height": 35
        },
        "id": "3thnQNpzfXO-",
        "outputId": "90736669-213b-4bc0-e56a-2d10e5f41f5e"
      },
      "execution_count": 17,
      "outputs": [
        {
          "output_type": "execute_result",
          "data": {
            "text/plain": [
              "'C'"
            ],
            "application/vnd.google.colaboratory.intrinsic+json": {
              "type": "string"
            }
          },
          "metadata": {},
          "execution_count": 17
        }
      ]
    },
    {
      "cell_type": "code",
      "source": [
        "zmienna3=zmienna2.lower()"
      ],
      "metadata": {
        "id": "eYNWingAgmZj"
      },
      "execution_count": 30,
      "outputs": []
    },
    {
      "cell_type": "code",
      "source": [
        "print(zmienna3)"
      ],
      "metadata": {
        "colab": {
          "base_uri": "https://localhost:8080/"
        },
        "id": "1GzzqGBOgsZD",
        "outputId": "d34756c7-da29-458d-f69b-160afa802a6a"
      },
      "execution_count": 24,
      "outputs": [
        {
          "output_type": "stream",
          "name": "stdout",
          "text": [
            "czarny to mój ulubiony kolor, niestety, kolor czarny bardzo szybko spiera się z moich ubrań\n"
          ]
        }
      ]
    },
    {
      "cell_type": "code",
      "source": [
        "zmienna3.replace(\"czarny\", \"biały\").capitalize()"
      ],
      "metadata": {
        "colab": {
          "base_uri": "https://localhost:8080/",
          "height": 35
        },
        "id": "24MYvHwHfkL3",
        "outputId": "b575e543-ec77-444a-e162-e85841eaaf24"
      },
      "execution_count": 31,
      "outputs": [
        {
          "output_type": "execute_result",
          "data": {
            "text/plain": [
              "'Biały to mój ulubiony kolor, niestety, kolor biały bardzo szybko spiera się z moich ubrań'"
            ],
            "application/vnd.google.colaboratory.intrinsic+json": {
              "type": "string"
            }
          },
          "metadata": {},
          "execution_count": 31
        }
      ]
    }
  ]
}